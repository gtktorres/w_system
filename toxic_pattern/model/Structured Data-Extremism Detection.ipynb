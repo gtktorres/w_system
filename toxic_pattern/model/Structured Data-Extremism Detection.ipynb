{
 "cells": [
  {
   "cell_type": "code",
   "execution_count": 1,
   "metadata": {},
   "outputs": [],
   "source": [
    "import matplotlib.pyplot as plt\n",
    "import numpy as np\n",
    "from PIL import Image\n",
    "import tensorflow as tf\n",
    "import pandas as pd\n",
    "from tensorflow import keras\n",
    "from tensorflow.keras import layers\n",
    "from tensorflow.keras.models import Sequential"
   ]
  },
  {
   "cell_type": "code",
   "execution_count": 2,
   "metadata": {},
   "outputs": [
    {
     "data": {
      "text/html": [
       "<div>\n",
       "<style scoped>\n",
       "    .dataframe tbody tr th:only-of-type {\n",
       "        vertical-align: middle;\n",
       "    }\n",
       "\n",
       "    .dataframe tbody tr th {\n",
       "        vertical-align: top;\n",
       "    }\n",
       "\n",
       "    .dataframe thead th {\n",
       "        text-align: right;\n",
       "    }\n",
       "</style>\n",
       "<table border=\"1\" class=\"dataframe\">\n",
       "  <thead>\n",
       "    <tr style=\"text-align: right;\">\n",
       "      <th></th>\n",
       "      <th>filename</th>\n",
       "      <th>width</th>\n",
       "      <th>height</th>\n",
       "      <th>class</th>\n",
       "      <th>xmin</th>\n",
       "      <th>ymin</th>\n",
       "      <th>xmax</th>\n",
       "      <th>ymax</th>\n",
       "    </tr>\n",
       "  </thead>\n",
       "  <tbody>\n",
       "    <tr>\n",
       "      <th>0</th>\n",
       "      <td>d630b47f-istockphoto-474582360-612x612_jpg.rf....</td>\n",
       "      <td>640</td>\n",
       "      <td>640</td>\n",
       "      <td>guns</td>\n",
       "      <td>40</td>\n",
       "      <td>182</td>\n",
       "      <td>425</td>\n",
       "      <td>469</td>\n",
       "    </tr>\n",
       "    <tr>\n",
       "      <th>1</th>\n",
       "      <td>b0f06489-_3rYf85T_jpg.rf.3731bd52045301cfbb58c...</td>\n",
       "      <td>640</td>\n",
       "      <td>640</td>\n",
       "      <td>guns</td>\n",
       "      <td>218</td>\n",
       "      <td>280</td>\n",
       "      <td>376</td>\n",
       "      <td>575</td>\n",
       "    </tr>\n",
       "    <tr>\n",
       "      <th>2</th>\n",
       "      <td>-_jpg.rf.2d28603d755d9d3f96968791ef56b590.jpg</td>\n",
       "      <td>640</td>\n",
       "      <td>640</td>\n",
       "      <td>nazi</td>\n",
       "      <td>301</td>\n",
       "      <td>332</td>\n",
       "      <td>428</td>\n",
       "      <td>614</td>\n",
       "    </tr>\n",
       "    <tr>\n",
       "      <th>3</th>\n",
       "      <td>-_jpg.rf.2d28603d755d9d3f96968791ef56b590.jpg</td>\n",
       "      <td>640</td>\n",
       "      <td>640</td>\n",
       "      <td>nazi</td>\n",
       "      <td>578</td>\n",
       "      <td>317</td>\n",
       "      <td>640</td>\n",
       "      <td>397</td>\n",
       "    </tr>\n",
       "    <tr>\n",
       "      <th>4</th>\n",
       "      <td>-_jpg.rf.2d28603d755d9d3f96968791ef56b590.jpg</td>\n",
       "      <td>640</td>\n",
       "      <td>640</td>\n",
       "      <td>nazi</td>\n",
       "      <td>107</td>\n",
       "      <td>304</td>\n",
       "      <td>211</td>\n",
       "      <td>377</td>\n",
       "    </tr>\n",
       "  </tbody>\n",
       "</table>\n",
       "</div>"
      ],
      "text/plain": [
       "                                            filename  width  height class  \\\n",
       "0  d630b47f-istockphoto-474582360-612x612_jpg.rf....    640     640  guns   \n",
       "1  b0f06489-_3rYf85T_jpg.rf.3731bd52045301cfbb58c...    640     640  guns   \n",
       "2      -_jpg.rf.2d28603d755d9d3f96968791ef56b590.jpg    640     640  nazi   \n",
       "3      -_jpg.rf.2d28603d755d9d3f96968791ef56b590.jpg    640     640  nazi   \n",
       "4      -_jpg.rf.2d28603d755d9d3f96968791ef56b590.jpg    640     640  nazi   \n",
       "\n",
       "   xmin  ymin  xmax  ymax  \n",
       "0    40   182   425   469  \n",
       "1   218   280   376   575  \n",
       "2   301   332   428   614  \n",
       "3   578   317   640   397  \n",
       "4   107   304   211   377  "
      ]
     },
     "execution_count": 2,
     "metadata": {},
     "output_type": "execute_result"
    }
   ],
   "source": [
    "import os\n",
    "import tqdm\n",
    "train_df = pd.read_csv('C:/Users/Hg/wells_system/w_system/toxic_pattern/model/image_train/_annotations.csv')\n",
    "test_df = pd.read_csv('C:/Users/Hg/wells_system/w_system/toxic_pattern/model/image_test/_annotations.csv')\n",
    "val_df = pd.read_csv('C:/Users/Hg/wells_system/w_system/toxic_pattern/model/image_validation/_annotations.csv')\n",
    "image_train_dir = 'C:/Users/Hg/wells_system/w_system/toxic_pattern/model/image_train'\n",
    "image_test_dir = 'C:/Users/Hg/wells_system/w_system/toxic_pattern/model/image_test'\n",
    "image_validation_dir = 'C:/Users/Hg/wells_system/w_system/toxic_pattern/model/image_validation'\n",
    "test_df.head()"
   ]
  },
  {
   "cell_type": "code",
   "execution_count": 3,
   "metadata": {},
   "outputs": [],
   "source": [
    "def load_image_data(ids,df):\n",
    "    image_data = []\n",
    "    for img_id in tqdm.tqdm(ids):\n",
    "        match df:\n",
    "            case 'train':\n",
    "                img_path = os.path.join(image_train_dir, img_id)\n",
    "            case 'val':\n",
    "                img_path = os.path.join(image_validation_dir, img_id)\n",
    "            case 'test':\n",
    "                img_path = os.path.join(image_test_dir, img_id)\n",
    "\n",
    "        im = Image.open(img_path)\n",
    "        im = im.resize((200, 200))\n",
    "        im = np.expand_dims(im, axis=-1)\n",
    "        image_data.append(im)\n",
    "    return image_data"
   ]
  },
  {
   "cell_type": "code",
   "execution_count": 4,
   "metadata": {},
   "outputs": [
    {
     "name": "stderr",
     "output_type": "stream",
     "text": [
      "100%|██████████| 5290/5290 [00:55<00:00, 94.83it/s]\n",
      "100%|██████████| 672/672 [00:07<00:00, 93.61it/s]\n",
      "100%|██████████| 100/100 [00:01<00:00, 94.34it/s]\n"
     ]
    }
   ],
   "source": [
    "train_images = load_image_data(train_df['filename'], 'train')\n",
    "val_images = load_image_data(val_df['filename'], 'val')\n",
    "test_images = load_image_data(test_df['filename'], 'test')\n",
    "#train and test data are turned into arrays\n",
    "train_image_data = np.array(train_images).astype(np.float16)\n",
    "val_image_data = np.array(val_images).astype(np.float16)\n",
    "test_image_data = np.array(test_images).astype(np.float16)"
   ]
  },
  {
   "cell_type": "code",
   "execution_count": 5,
   "metadata": {},
   "outputs": [
    {
     "data": {
      "text/html": [
       "<div>\n",
       "<style scoped>\n",
       "    .dataframe tbody tr th:only-of-type {\n",
       "        vertical-align: middle;\n",
       "    }\n",
       "\n",
       "    .dataframe tbody tr th {\n",
       "        vertical-align: top;\n",
       "    }\n",
       "\n",
       "    .dataframe thead th {\n",
       "        text-align: right;\n",
       "    }\n",
       "</style>\n",
       "<table border=\"1\" class=\"dataframe\">\n",
       "  <thead>\n",
       "    <tr style=\"text-align: right;\">\n",
       "      <th></th>\n",
       "      <th>nazi class</th>\n",
       "      <th>person class</th>\n",
       "      <th>guns class</th>\n",
       "    </tr>\n",
       "  </thead>\n",
       "  <tbody>\n",
       "    <tr>\n",
       "      <th>0</th>\n",
       "      <td>1</td>\n",
       "      <td>0</td>\n",
       "      <td>0</td>\n",
       "    </tr>\n",
       "    <tr>\n",
       "      <th>1</th>\n",
       "      <td>1</td>\n",
       "      <td>0</td>\n",
       "      <td>0</td>\n",
       "    </tr>\n",
       "    <tr>\n",
       "      <th>2</th>\n",
       "      <td>1</td>\n",
       "      <td>0</td>\n",
       "      <td>0</td>\n",
       "    </tr>\n",
       "    <tr>\n",
       "      <th>3</th>\n",
       "      <td>0</td>\n",
       "      <td>1</td>\n",
       "      <td>0</td>\n",
       "    </tr>\n",
       "    <tr>\n",
       "      <th>4</th>\n",
       "      <td>0</td>\n",
       "      <td>0</td>\n",
       "      <td>0</td>\n",
       "    </tr>\n",
       "    <tr>\n",
       "      <th>...</th>\n",
       "      <td>...</td>\n",
       "      <td>...</td>\n",
       "      <td>...</td>\n",
       "    </tr>\n",
       "    <tr>\n",
       "      <th>5285</th>\n",
       "      <td>0</td>\n",
       "      <td>0</td>\n",
       "      <td>0</td>\n",
       "    </tr>\n",
       "    <tr>\n",
       "      <th>5286</th>\n",
       "      <td>0</td>\n",
       "      <td>1</td>\n",
       "      <td>0</td>\n",
       "    </tr>\n",
       "    <tr>\n",
       "      <th>5287</th>\n",
       "      <td>0</td>\n",
       "      <td>1</td>\n",
       "      <td>0</td>\n",
       "    </tr>\n",
       "    <tr>\n",
       "      <th>5288</th>\n",
       "      <td>0</td>\n",
       "      <td>1</td>\n",
       "      <td>0</td>\n",
       "    </tr>\n",
       "    <tr>\n",
       "      <th>5289</th>\n",
       "      <td>0</td>\n",
       "      <td>0</td>\n",
       "      <td>1</td>\n",
       "    </tr>\n",
       "  </tbody>\n",
       "</table>\n",
       "<p>5290 rows × 3 columns</p>\n",
       "</div>"
      ],
      "text/plain": [
       "      nazi class  person class  guns class\n",
       "0              1             0           0\n",
       "1              1             0           0\n",
       "2              1             0           0\n",
       "3              0             1           0\n",
       "4              0             0           0\n",
       "...          ...           ...         ...\n",
       "5285           0             0           0\n",
       "5286           0             1           0\n",
       "5287           0             1           0\n",
       "5288           0             1           0\n",
       "5289           0             0           1\n",
       "\n",
       "[5290 rows x 3 columns]"
      ]
     },
     "execution_count": 5,
     "metadata": {},
     "output_type": "execute_result"
    }
   ],
   "source": [
    "rating_dummy = pd.get_dummies(train_df['class'])\n",
    "\n",
    "train_df['class'] = train_df['class'].apply(lambda p: p.replace(',', ''))\n",
    "\n",
    "train_df['nazi class'] = rating_dummy['nazi']\n",
    "train_df['person class'] = rating_dummy['person']\n",
    "train_df['guns class'] = rating_dummy['guns']\n",
    "val_df['nazi class'] = rating_dummy['nazi']\n",
    "val_df['person class'] = rating_dummy['person']\n",
    "val_df['guns class'] = rating_dummy['guns']\n",
    "\n",
    "train_df.drop(['class'], axis=1, inplace=True)\n",
    "val_df.drop(['class'], axis=1, inplace=True)\n",
    "\n",
    "valid_cols = ['nazi class', 'person class', 'guns class']\n",
    "\n",
    "train_labels = train_df[valid_cols]\n",
    "valid_labels = val_df[valid_cols]\n",
    "#train_labels = np.clip(train_labels, 0, 100)\n",
    "train_labels"
   ]
  },
  {
   "cell_type": "code",
   "execution_count": 6,
   "metadata": {},
   "outputs": [
    {
     "name": "stdout",
     "output_type": "stream",
     "text": [
      "(5290, 200, 200, 3, 1)\n",
      "(672, 200, 200, 3, 1)\n",
      "(5290, 3)\n",
      "(672, 3)\n"
     ]
    }
   ],
   "source": [
    "print(train_image_data.shape)\n",
    "print(val_image_data.shape)\n",
    "print(train_labels.shape)\n",
    "print(valid_labels.shape)"
   ]
  },
  {
   "cell_type": "code",
   "execution_count": 7,
   "metadata": {},
   "outputs": [],
   "source": [
    "from tensorflow.keras.layers import Input, Dense, Concatenate, Flatten, Conv2D,MaxPooling2D, BatchNormalization\n",
    "from tensorflow.keras import Model\n",
    "# Concatenate helps to plug different branches of a neural network together\n",
    "# Here are the 2 separate inputs to our model which will be called image input\n",
    "# Maxpooling2D is how we combine layers together\n",
    "from tensorflow.keras.preprocessing.text import Tokenizer\n",
    "from tensorflow.keras.preprocessing.sequence import pad_sequences\n",
    "\n",
    "\n",
    "\n",
    "#Image Model\n",
    "image_input = Input(shape=(200,200,3,))\n",
    "#speedInput = Input(shape=(1,)) won't need this until later\n",
    "\n",
    "output_of_layer1 = Conv2D(64, (3, 3), activation=\"relu\")(image_input)#this function is a higher order function\n",
    "output_of_layer2 = MaxPooling2D((3,3))(output_of_layer1)\n",
    "output_of_layer3 = Conv2D(32, (3, 3), activation=\"relu\")(output_of_layer2)#Conv2D params(layers,[], activation)\n",
    "output_of_layer4 = Flatten()(output_of_layer3)\n",
    "output_of_layer5= Dense(32, activation=\"relu\")(output_of_layer4)\n",
    "\n",
    "image_model = Model(inputs=image_input, outputs=output_of_layer5)\n",
    "\n",
    "final_model = Dense(4, activation=\"relu\")(output_of_layer5)\n",
    "final_model = Dense(1, activation=\"relu\")(final_model)#should never be negative so it can be a relu instead of linear, but to do so causes overfitting\n",
    "\n",
    "model = Model(inputs=[image_model.input], outputs=final_model)"
   ]
  },
  {
   "cell_type": "code",
   "execution_count": 8,
   "metadata": {},
   "outputs": [
    {
     "name": "stdout",
     "output_type": "stream",
     "text": [
      "Model: \"model_1\"\n",
      "_________________________________________________________________\n",
      " Layer (type)                Output Shape              Param #   \n",
      "=================================================================\n",
      " input_1 (InputLayer)        [(None, 200, 200, 3)]     0         \n",
      "                                                                 \n",
      " conv2d (Conv2D)             (None, 198, 198, 64)      1792      \n",
      "                                                                 \n",
      " max_pooling2d (MaxPooling2D  (None, 66, 66, 64)       0         \n",
      " )                                                               \n",
      "                                                                 \n",
      " conv2d_1 (Conv2D)           (None, 64, 64, 32)        18464     \n",
      "                                                                 \n",
      " flatten (Flatten)           (None, 131072)            0         \n",
      "                                                                 \n",
      " dense (Dense)               (None, 32)                4194336   \n",
      "                                                                 \n",
      " dense_1 (Dense)             (None, 4)                 132       \n",
      "                                                                 \n",
      " dense_2 (Dense)             (None, 1)                 5         \n",
      "                                                                 \n",
      "=================================================================\n",
      "Total params: 4,214,729\n",
      "Trainable params: 4,214,729\n",
      "Non-trainable params: 0\n",
      "_________________________________________________________________\n"
     ]
    }
   ],
   "source": [
    "from tensorflow.keras.optimizers import Adam\n",
    "model.compile(loss='mean_absolute_error', optimizer=Adam(learning_rate=0.003))\n",
    "model.summary()"
   ]
  },
  {
   "cell_type": "code",
   "execution_count": 9,
   "metadata": {},
   "outputs": [
    {
     "name": "stdout",
     "output_type": "stream",
     "text": [
      "Epoch 1/20\n",
      "166/166 [==============================] - 103s 607ms/step - loss: 0.4224 - val_loss: 0.2381\n",
      "Epoch 2/20\n",
      "166/166 [==============================] - 102s 616ms/step - loss: 0.2467 - val_loss: 0.2381\n",
      "Epoch 3/20\n",
      "166/166 [==============================] - 108s 650ms/step - loss: 0.2467 - val_loss: 0.2381\n",
      "Epoch 4/20\n",
      "166/166 [==============================] - 106s 638ms/step - loss: 0.2467 - val_loss: 0.2381\n",
      "Epoch 5/20\n",
      "166/166 [==============================] - 106s 641ms/step - loss: 0.2467 - val_loss: 0.2381\n",
      "Epoch 6/20\n",
      "166/166 [==============================] - 125s 754ms/step - loss: 0.2467 - val_loss: 0.2381\n",
      "Epoch 7/20\n",
      "166/166 [==============================] - 123s 742ms/step - loss: 0.2467 - val_loss: 0.2381\n",
      "Epoch 8/20\n",
      "166/166 [==============================] - 126s 756ms/step - loss: 0.2467 - val_loss: 0.2381\n",
      "Epoch 9/20\n",
      "166/166 [==============================] - 126s 758ms/step - loss: 0.2467 - val_loss: 0.2381\n",
      "Epoch 10/20\n",
      "166/166 [==============================] - 126s 762ms/step - loss: 0.2467 - val_loss: 0.2381\n",
      "Epoch 11/20\n",
      "166/166 [==============================] - 127s 765ms/step - loss: 0.2467 - val_loss: 0.2381\n",
      "Epoch 12/20\n",
      "166/166 [==============================] - 135s 811ms/step - loss: 0.2467 - val_loss: 0.2381\n",
      "Epoch 13/20\n",
      "166/166 [==============================] - 138s 829ms/step - loss: 0.2467 - val_loss: 0.2381\n",
      "Epoch 14/20\n",
      "166/166 [==============================] - 131s 787ms/step - loss: 0.2467 - val_loss: 0.2381\n",
      "Epoch 15/20\n",
      "166/166 [==============================] - 109s 657ms/step - loss: 0.2467 - val_loss: 0.2381\n",
      "Epoch 16/20\n",
      "166/166 [==============================] - 109s 657ms/step - loss: 0.2467 - val_loss: 0.2381\n",
      "Epoch 17/20\n",
      "166/166 [==============================] - 108s 651ms/step - loss: 0.2467 - val_loss: 0.2381\n",
      "Epoch 18/20\n",
      "166/166 [==============================] - 114s 686ms/step - loss: 0.2467 - val_loss: 0.2381\n",
      "Epoch 19/20\n",
      "166/166 [==============================] - 113s 679ms/step - loss: 0.2467 - val_loss: 0.2381\n",
      "Epoch 20/20\n",
      "166/166 [==============================] - 107s 647ms/step - loss: 0.2467 - val_loss: 0.2381\n"
     ]
    }
   ],
   "source": [
    "history = model.fit(\n",
    "    x=train_image_data, \n",
    "    y=train_labels, \n",
    "    validation_data=(val_image_data, valid_labels), \n",
    "    epochs=20)"
   ]
  },
  {
   "cell_type": "code",
   "execution_count": 10,
   "metadata": {},
   "outputs": [
    {
     "data": {
      "text/plain": [
       "<matplotlib.legend.Legend at 0x20b529a8f10>"
      ]
     },
     "execution_count": 10,
     "metadata": {},
     "output_type": "execute_result"
    },
    {
     "data": {
      "image/png": "[encoded data removed]",
      "text/plain": [
       "<Figure size 640x480 with 1 Axes>"
      ]
     },
     "metadata": {},
     "output_type": "display_data"
    }
   ],
   "source": [
    "plt.plot(history.history['loss'])\n",
    "plt.plot(history.history['val_loss'])\n",
    "plt.legend(['loss', 'val_loss'], loc='lower left') "
   ]
  },
  {
   "cell_type": "code",
   "execution_count": 11,
   "metadata": {},
   "outputs": [
    {
     "name": "stdout",
     "output_type": "stream",
     "text": [
      "4/4 [==============================] - 1s 80ms/step\n"
     ]
    }
   ],
   "source": [
    "test_df['nazi class'] = model.predict(test_image_data)"
   ]
  },
  {
   "cell_type": "code",
   "execution_count": 12,
   "metadata": {},
   "outputs": [
    {
     "data": {
      "text/plain": [
       "0     0.0\n",
       "1     0.0\n",
       "2     0.0\n",
       "3     0.0\n",
       "4     0.0\n",
       "     ... \n",
       "95    0.0\n",
       "96    0.0\n",
       "97    0.0\n",
       "98    0.0\n",
       "99    0.0\n",
       "Name: nazi class, Length: 100, dtype: float32"
      ]
     },
     "execution_count": 12,
     "metadata": {},
     "output_type": "execute_result"
    }
   ],
   "source": [
    "test_df['nazi class']"
   ]
  },
  {
   "cell_type": "code",
   "execution_count": 13,
   "metadata": {},
   "outputs": [
    {
     "data": {
      "text/plain": [
       "(array([19.,  0.,  0.,  0.,  0., 49.,  0.,  0.,  0., 32.]),\n",
       " array([0. , 0.2, 0.4, 0.6, 0.8, 1. , 1.2, 1.4, 1.6, 1.8, 2. ]),\n",
       " <BarContainer object of 10 artists>)"
      ]
     },
     "execution_count": 13,
     "metadata": {},
     "output_type": "execute_result"
    },
    {
     "data": {
      "image/png": "[encoded data removed]",
      "text/plain": [
       "<Figure size 640x480 with 1 Axes>"
      ]
     },
     "metadata": {},
     "output_type": "display_data"
    }
   ],
   "source": [
    "plt.hist(test_df['class'])"
   ]
  },
  {
   "cell_type": "code",
   "execution_count": 14,
   "metadata": {},
   "outputs": [],
   "source": [
    "test_df[['filename', 'class']].to_csv('submission.csv', index=False)"
   ]
  },
  {
   "cell_type": "code",
   "execution_count": 16,
   "metadata": {},
   "outputs": [
    {
     "name": "stdout",
     "output_type": "stream",
     "text": [
      "4/4 [==============================] - 0s 2ms/step - loss: 0.0000e+00\n",
      "Accuracy 0.0\n"
     ]
    }
   ],
   "source": [
    "#Then we test the validation data with the model I have created!\n",
    "accuracy = model.evaluate(test_image_data)\n",
    "print(\"Accuracy\", accuracy)"
   ]
  },
  {
   "cell_type": "code",
   "execution_count": 17,
   "metadata": {},
   "outputs": [],
   "source": [
    "def predict(image):\n",
    "    image_data = model.predict(image)\n",
    "    return image_data"
   ]
  }
 ],
 "metadata": {
  "kernelspec": {
   "display_name": "tensorflow-py310",
   "language": "python",
   "name": "python3"
  },
  "language_info": {
   "codemirror_mode": {
    "name": "ipython",
    "version": 3
   },
   "file_extension": ".py",
   "mimetype": "text/x-python",
   "name": "python",
   "nbconvert_exporter": "python",
   "pygments_lexer": "ipython3",
   "version": "3.10.10"
  }
 },
 "nbformat": 4,
 "nbformat_minor": 2
}
